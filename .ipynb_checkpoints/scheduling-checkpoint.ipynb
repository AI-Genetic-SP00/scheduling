{
 "cells": [
  {
   "cell_type": "markdown",
   "metadata": {},
   "source": [
    "<h1 style = \"font-size: 35px; text-align: center;\">AI Genetic Hands On</h1>\n",
    "<h1 style = \"font-size: 25px; text-align: center;\">Hospital Job Scheduling for Doctors</h1>\n",
    "<h1 style = \"font-size: 25px; text-align: center; color: #666\">Taha Shabani - Soheil Shirvani</h1>\n",
    "<h4 style=\"text-align: center\">Spring 1400</h4>"
   ]
  },
  {
   "cell_type": "code",
   "execution_count": 1,
   "metadata": {},
   "outputs": [],
   "source": [
    "testFile = \"test1.txt\""
   ]
  },
  {
   "cell_type": "code",
   "execution_count": 2,
   "metadata": {},
   "outputs": [],
   "source": [
    "class DayShifts:\n",
    "    def __init__(self, morningReqs, eveningReqs, nightReqs):\n",
    "        self.morningReqs = morningReqs\n",
    "        self.eveningReqs = eveningReqs\n",
    "        self.nightReqs = nightReqs\n",
    "        \n",
    "    def printInfo(self):\n",
    "        print(\"morning: \", self.morningReqs, \"evening: \", self.eveningReqs, \"night: \", self.nightReqs,)"
   ]
  },
  {
   "cell_type": "code",
   "execution_count": 3,
   "metadata": {},
   "outputs": [],
   "source": [
    "def readInput() :\n",
    "    file = open(testFile, 'r+')\n",
    "    fileList = file.readlines()\n",
    "    fileList = [s.replace('\\n', '') for s in fileList]\n",
    "    \n",
    "    [numOfDays, numOfDoctors] = [int(i) for i in fileList[0].split()]\n",
    "    maxCapacity = int(fileList[1])\n",
    "    offDays = int(fileList[2])\n",
    "    \n",
    "    allShiftReqs = []\n",
    "    for i in range(3, numOfDays + 3):\n",
    "        dayRequirements = fileList[i].split()\n",
    "        morningReqs = [int(i) for i in dayRequirements[0].split(\",\")]\n",
    "        eveningReqs = [int(i) for i in dayRequirements[1].split(\",\")]\n",
    "        nightReqs = [int(i) for i in dayRequirements[2].split(\",\")]\n",
    "        allShiftReqs.append(DayShifts(morningReqs, eveningReqs, nightReqs))\n",
    "        \n",
    "#     print(numOfDays, numOfDoctors, maxCapacity, offDays)\n",
    "#     for i in allShifts:\n",
    "#         print(i.printInfo())\n",
    "\n",
    "    file.close()\n",
    "    return [numOfDays, numOfDoctors, maxCapacity, offDays, allShiftReqs];"
   ]
  },
  {
   "cell_type": "code",
   "execution_count": 4,
   "metadata": {},
   "outputs": [
    {
     "data": {
      "text/plain": [
       "[7,\n",
       " 5,\n",
       " 8,\n",
       " 2,\n",
       " [<__main__.DayShifts at 0x7fd87461cc88>,\n",
       "  <__main__.DayShifts at 0x7fd87461c2b0>,\n",
       "  <__main__.DayShifts at 0x7fd874621128>,\n",
       "  <__main__.DayShifts at 0x7fd87461c0b8>,\n",
       "  <__main__.DayShifts at 0x7fd874621198>,\n",
       "  <__main__.DayShifts at 0x7fd87461c240>,\n",
       "  <__main__.DayShifts at 0x7fd8760f5c18>]]"
      ]
     },
     "execution_count": 4,
     "metadata": {},
     "output_type": "execute_result"
    }
   ],
   "source": [
    "readInput()"
   ]
  },
  {
   "cell_type": "code",
   "execution_count": null,
   "metadata": {},
   "outputs": [],
   "source": []
  }
 ],
 "metadata": {
  "kernelspec": {
   "display_name": "Python 3",
   "language": "python",
   "name": "python3"
  },
  "language_info": {
   "codemirror_mode": {
    "name": "ipython",
    "version": 3
   },
   "file_extension": ".py",
   "mimetype": "text/x-python",
   "name": "python",
   "nbconvert_exporter": "python",
   "pygments_lexer": "ipython3",
   "version": "3.6.9"
  }
 },
 "nbformat": 4,
 "nbformat_minor": 4
}
