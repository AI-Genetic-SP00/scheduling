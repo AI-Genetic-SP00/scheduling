{
 "cells": [
  {
   "cell_type": "markdown",
   "metadata": {},
   "source": [
    "<h1 style = \"font-size: 35px; text-align: center;\">AI Genetic Hands On</h1>\n",
    "<h1 style = \"font-size: 25px; text-align: center;\">Hospital Job Scheduling for Doctors</h1>\n",
    "<h1 style = \"font-size: 25px; text-align: center; color: #666\">Taha Shabani - Soheil Shirvani</h1>\n",
    "<h4 style=\"text-align: center\">Spring 1400</h4>"
   ]
  },
  {
   "cell_type": "code",
   "execution_count": 1,
   "metadata": {},
   "outputs": [],
   "source": [
    "testFile = \"test1.txt\""
   ]
  },
  {
   "cell_type": "code",
   "execution_count": 2,
   "metadata": {},
   "outputs": [],
   "source": [
    "class DayShifts:\n",
    "    def __init__(self, morningReqs, eveningReqs, nightReqs):\n",
    "        self.morningReqs = morningReqs\n",
    "        self.eveningReqs = eveningReqs\n",
    "        self.nightReqs = nightReqs\n",
    "        \n",
    "    def printInfo(self):\n",
    "        print(\"morning: \", self.morningReqs, \"evening: \", self.eveningReqs, \"night: \", self.nightReqs,)"
   ]
  },
  {
   "cell_type": "code",
   "execution_count": 3,
   "metadata": {},
   "outputs": [],
   "source": [
    "def readInput() :\n",
    "    file = open(testFile, 'r+')\n",
    "    fileList = file.readlines()\n",
    "    fileList = [s.replace('\\n', '') for s in fileList]\n",
    "    \n",
    "    [days, doctors] = [int(i) for i in fileList[0].split()]\n",
    "    maxCapacity = int(fileList[1])\n",
    "    offDays = int(fileList[2])\n",
    "    \n",
    "    allShifts = []\n",
    "    for i in range(3, days + 3):\n",
    "        dayRequirements = fileList[i].split()\n",
    "        morningReqs = [int(i) for i in dayRequirements[0].split(\",\")]\n",
    "        eveningReqs = [int(i) for i in dayRequirements[1].split(\",\")]\n",
    "        nightReqs = [int(i) for i in dayRequirements[2].split(\",\")]\n",
    "        allShifts.append(DayShifts(morningReqs, eveningReqs, nightReqs))\n",
    "        \n",
    "#     print(days, doctors, maxCapacity, offDays)\n",
    "#     for i in allShifts:\n",
    "#         print(i.printInfo())\n",
    "\n",
    "    file.close()\n",
    "    return [days, doctors, maxCapacity, offDays, allShifts];"
   ]
  },
  {
   "cell_type": "code",
   "execution_count": 4,
   "metadata": {},
   "outputs": [],
   "source": [
    "class JobScheduler:\n",
    "    def __init__(self, fileInfo):\n",
    "        self.days = fileInfo[0]\n",
    "        self.doctors = fileInfo[1]\n",
    "        self.maxCapacity = fileInfo[2]\n",
    "        self.offDays = fileInfo[3]\n",
    "        self.allShifts = fileInfo[4]\n",
    "        \n",
    "        self.restartLimitation = 120 #consideration: if we stuck in local maximums this would be needed\n",
    "        self.popSize = 500\n",
    "        self.crossoverPoints = 5\n",
    "        self.elitismPercentage = 10 #move x% best of parents directly to the new population\n",
    "        self.pc = 0.65 #crossover probability\n",
    "        self.pm = 0.2  #mutation probability\n",
    "        \n",
    "        self.chromosomeSet = {}\n",
    "        self.chromosomes = self.getInitialChromosomes() #[0]: chromosome value, [1]: fitness value\n",
    "    \n",
    "    def getInitialChromosomes(self):\n",
    "        print()\n",
    "        # todo\n",
    "    \n",
    "    def schedule(self):\n",
    "        print()\n",
    "        # todo\n",
    "        "
   ]
  },
  {
   "cell_type": "code",
   "execution_count": 5,
   "metadata": {},
   "outputs": [
    {
     "name": "stdout",
     "output_type": "stream",
     "text": [
      "\n",
      "\n",
      "time:  0.00 sec\n"
     ]
    }
   ],
   "source": [
    "import time\n",
    "\n",
    "fileInfo = readInput()\n",
    "scheduler = JobScheduler(fileInfo)\n",
    "\n",
    "start = time.time()\n",
    "scheduler.schedule()\n",
    "end = time.time()\n",
    "\n",
    "print(\"time: \", '%.2f'%(end - start), 'sec')"
   ]
  }
 ],
 "metadata": {
  "kernelspec": {
   "display_name": "Python 3",
   "language": "python",
   "name": "python3"
  },
  "language_info": {
   "codemirror_mode": {
    "name": "ipython",
    "version": 3
   },
   "file_extension": ".py",
   "mimetype": "text/x-python",
   "name": "python",
   "nbconvert_exporter": "python",
   "pygments_lexer": "ipython3",
   "version": "3.6.9"
  }
 },
 "nbformat": 4,
 "nbformat_minor": 4
}
