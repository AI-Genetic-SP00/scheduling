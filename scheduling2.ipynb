{
 "cells": [
  {
   "cell_type": "markdown",
   "metadata": {},
   "source": [
    "<h1 style = \"font-size: 35px; text-align: center;\">AI Genetic Hands On</h1>\n",
    "<h1 style = \"font-size: 25px; text-align: center;\">Hospital Job Scheduling for Doctors</h1>\n",
    "<h1 style = \"font-size: 25px; text-align: center; color: #666\">Taha Shabani - Soheil Shirvani</h1>\n",
    "<h4 style=\"text-align: center\">Spring 1400</h4>"
   ]
  },
  {
   "cell_type": "code",
   "execution_count": 1,
   "metadata": {},
   "outputs": [],
   "source": [
    "testFile = \"test1.txt\""
   ]
  },
  {
   "cell_type": "code",
   "execution_count": 2,
   "metadata": {},
   "outputs": [],
   "source": [
    "class DayShifts:\n",
    "    def __init__(self, morningReqs, eveningReqs, nightReqs):\n",
    "        self.morningReqs = morningReqs\n",
    "        self.eveningReqs = eveningReqs\n",
    "        self.nightReqs = nightReqs\n",
    "        \n",
    "    def printInfo(self):\n",
    "        print(\"morning: \", self.morningReqs, \"evening: \", self.eveningReqs, \"night: \", self.nightReqs,)"
   ]
  },
  {
   "cell_type": "code",
   "execution_count": 3,
   "metadata": {},
   "outputs": [],
   "source": [
    "def readInput() :\n",
    "    file = open(testFile, 'r+')\n",
    "    fileList = file.readlines()\n",
    "    fileList = [s.replace('\\n', '') for s in fileList]\n",
    "    \n",
    "    [days, doctors] = [int(i) for i in fileList[0].split()]\n",
    "    maxCapacity = int(fileList[1])\n",
    "    offDays = int(fileList[2])\n",
    "    \n",
    "    allShifts = []\n",
    "    for i in range(3, days + 3):\n",
    "        dayRequirements = fileList[i].split()\n",
    "        morningReqs = [int(i) for i in dayRequirements[0].split(\",\")]\n",
    "        eveningReqs = [int(i) for i in dayRequirements[1].split(\",\")]\n",
    "        nightReqs = [int(i) for i in dayRequirements[2].split(\",\")]\n",
    "        allShifts.append(DayShifts(morningReqs, eveningReqs, nightReqs))\n",
    "        \n",
    "#     print(days, doctors, maxCapacity, offDays)\n",
    "#     for i in allShifts:\n",
    "#         print(i.printInfo())\n",
    "\n",
    "    file.close()\n",
    "    return [days, doctors, maxCapacity, offDays, allShifts];"
   ]
  },
  {
   "cell_type": "code",
   "execution_count": 4,
   "metadata": {},
   "outputs": [],
   "source": [
    "class JobScheduler:\n",
    "    def __init__(self, fileInfo):\n",
    "        self.days = fileInfo[0]\n",
    "        self.doctors = fileInfo[1]\n",
    "        self.maxCapacity = fileInfo[2]\n",
    "        self.offDays = fileInfo[3]\n",
    "        self.allShifts = fileInfo[4]\n",
    "        \n",
    "        self.restartLimitation = 120 #consideration: if we stuck in local maximums this would be needed\n",
    "        self.popSize = 500\n",
    "        self.crossoverPoints = 5\n",
    "        self.elitismPercentage = 10 #move x% best of parents directly to the new population\n",
    "        self.pc = 0.65 #crossover probability\n",
    "        self.pm = 0.2  #mutation probability\n",
    "        \n",
    "        self.chromosomeSet = {}\n",
    "        self.chromosomes = self.getInitialChromosomes() #[0]: chromosome value, [1]: fitness value\n",
    "    \n",
    "    def getInitialChromosomes(self):\n",
    "        print()\n",
    "        # todo\n",
    "    \n",
    "    def schedule(self):\n",
    "        print()\n",
    "        # todo\n",
    "        "
   ]
  },
  {
   "cell_type": "code",
   "execution_count": 5,
   "metadata": {},
   "outputs": [
    {
     "name": "stdout",
     "output_type": "stream",
     "text": [
      "\n",
      "\n",
      "time:  0.00 sec\n"
     ]
    }
   ],
   "source": [
    "import time\n",
    "\n",
    "fileInfo = readInput()\n",
    "scheduler = JobScheduler(fileInfo)\n",
    "\n",
    "start = time.time()\n",
    "scheduler.schedule()\n",
    "end = time.time()\n",
    "\n",
    "print(\"time: \", '%.2f'%(end - start), 'sec')"
   ]
  },
  {
   "cell_type": "markdown",
   "metadata": {},
   "source": [
    "# Read Input File\n",
    "\n",
    "Rows:\n",
    "<table>\n",
    "    <th>Number of Days</th>\n",
    "    <th>Number of Doctors</th>\n",
    "    <th>Maximum Shift Number</th>\n",
    "    <th>Number of off-shifts</th>\n",
    "    <th>each day shifts min-max</th>\n",
    "</table>"
   ]
  },
  {
   "cell_type": "code",
   "execution_count": 6,
   "metadata": {},
   "outputs": [],
   "source": [
    "def readInput() :\n",
    "    file = open(testFile, 'r+')\n",
    "    fileList = file.readlines()\n",
    "    fileList = [s.replace('\\n', '') for s in fileList]\n",
    "    \n",
    "    [days, doctors] = [int(i) for i in fileList[0].split()]\n",
    "    maxCapacity = int(fileList[1])\n",
    "    offDays = int(fileList[2])\n",
    "    \n",
    "    allShifts = []\n",
    "    for i in range(3, days + 3):\n",
    "        dayRequirements = fileList[i].split()\n",
    "        morningReqs = [int(i) for i in dayRequirements[0].split(\",\")]\n",
    "        eveningReqs = [int(i) for i in dayRequirements[1].split(\",\")]\n",
    "        nightReqs = [int(i) for i in dayRequirements[2].split(\",\")]\n",
    "        \n",
    "        allShifts.append((morningReqs, eveningReqs, nightReqs))\n",
    "        \n",
    "#     print(days, doctors, maxCapacity, offDays)\n",
    "#     for i in allShifts:\n",
    "#         print(i.printInfo())\n",
    "\n",
    "    file.close()\n",
    "    return [days, list(range(doctors)), maxCapacity, offDays, allShifts];"
   ]
  },
  {
   "cell_type": "code",
   "execution_count": 7,
   "metadata": {},
   "outputs": [
    {
     "data": {
      "text/plain": [
       "(7,\n",
       " [0, 1, 2, 3, 4],\n",
       " 8,\n",
       " 2,\n",
       " [([2, 3], [1, 4], [2, 2]),\n",
       "  ([1, 3], [1, 2], [3, 5]),\n",
       "  ([3, 3], [2, 3], [1, 4]),\n",
       "  ([1, 4], [1, 2], [1, 3]),\n",
       "  ([1, 1], [0, 2], [2, 4]),\n",
       "  ([4, 5], [1, 2], [1, 2]),\n",
       "  ([1, 3], [1, 3], [2, 2])])"
      ]
     },
     "execution_count": 7,
     "metadata": {},
     "output_type": "execute_result"
    }
   ],
   "source": [
    "days, doctors_id, maxCapacity, offDays, allShifts = readInput()\n",
    "\n",
    "days, doctors_id, maxCapacity, offDays, allShifts"
   ]
  },
  {
   "cell_type": "markdown",
   "metadata": {},
   "source": [
    "# Initial Chromosomes"
   ]
  },
  {
   "cell_type": "code",
   "execution_count": 22,
   "metadata": {},
   "outputs": [
    {
     "name": "stdout",
     "output_type": "stream",
     "text": [
      "[[0 0 0]\n",
      " [0 0 0]\n",
      " [0 0 0]\n",
      " [0 0 0]\n",
      " [0 0 0]\n",
      " [0 0 0]\n",
      " [0 0 0]]\n",
      "4 0\n",
      "5 0\n",
      "4 0\n",
      "6 4\n",
      "4 2\n",
      "3 2\n",
      "4 0\n",
      "[[2 1 2]\n",
      " [1 1 3]\n",
      " [3 2 1]\n",
      " [2 1 2]\n",
      " [2 1 2]\n",
      " [4 1 1]\n",
      " [2 1 2]]\n"
     ]
    },
    {
     "data": {
      "text/plain": [
       "[[[4, 3], [3], [0, 4]],\n",
       " [[2], [2], [3, 1, 2]],\n",
       " [[3, 0, 1], [2, 0], [3]],\n",
       " [[4, 2], [3], [4, 1]],\n",
       " [[1, 4], [0], [2, 3]],\n",
       " [[3, 4, 1, 0], [1], [3]],\n",
       " [[4, 2], [3], [1, 4]]]"
      ]
     },
     "execution_count": 22,
     "metadata": {},
     "output_type": "execute_result"
    }
   ],
   "source": [
    "import numpy as np\n",
    "from random import randrange\n",
    "from random import sample\n",
    "\n",
    "doctors = len(doctors_id)\n",
    "def create_chromosome():\n",
    "    chromosome = np.zeros(shape=(len(allShifts),3)).astype(int)\n",
    "    print(chromosome)\n",
    "    all_shift_ids = [[0 for i in range(3)] for j in range(len(allShifts))]\n",
    "\n",
    "    for day in range(len(allShifts)):\n",
    "#         print(chromosome)\n",
    "        threshold = 0\n",
    "\n",
    "        for shift in range(3):\n",
    "            chromosome[day][shift] = allShifts[day][shift][0]\n",
    "            threshold += (allShifts[day][shift][1] - allShifts[day][shift][0])\n",
    "        \n",
    "        i = 0\n",
    "        randThreshold = randrange(threshold + 1)\n",
    "        print (threshold, randthreshold)\n",
    "        while sum(chromosome[day]) < doctors and i <= 5:\n",
    "            shift_num = np.random.randint(3)\n",
    "            if chromosome[day][shift_num] <= allShifts[day][shift_num][1]:\n",
    "                chromosome[day][shift_num] = chromosome[day][shift_num] + 1\n",
    "            i = i + 1\n",
    "\n",
    "        all_shift_ids[day][0] = sample(doctors_id, chromosome[day][0])\n",
    "        all_shift_ids[day][1] = sample(doctors_id, chromosome[day][1])\n",
    "        all_shift_ids[day][2] = sample(doctors_id, chromosome[day][2])\n",
    "        \n",
    "    print(chromosome)\n",
    "    return all_shift_ids\n",
    "create_chromosome()"
   ]
  },
  {
   "cell_type": "markdown",
   "metadata": {},
   "source": [
    "# Initial Population"
   ]
  },
  {
   "cell_type": "code",
   "execution_count": null,
   "metadata": {},
   "outputs": [],
   "source": [
    "population_number = 50\n",
    "population = []\n",
    "for i in range(population_number):\n",
    "    population.append(create_chromosome())\n",
    "    \n",
    "population"
   ]
  },
  {
   "cell_type": "markdown",
   "metadata": {},
   "source": [
    "# Cross Over"
   ]
  },
  {
   "cell_type": "code",
   "execution_count": null,
   "metadata": {},
   "outputs": [],
   "source": [
    "cross_over_chance = 0.6\n",
    "cross_over_percentage = 0.8\n",
    "\n",
    "def cross_over(chrome1, chrome2):\n",
    "    # days_to_change = sorted(random.sample(range(len(allShifts)), days_to_cross_over))\n",
    "\n",
    "#     chrome1 = population[0]\n",
    "#     chrome2 = population[1]\n",
    "\n",
    "#     display(chrome1)\n",
    "\n",
    "    for i in range(len(allShifts)):\n",
    "        if random.uniform(0, 1) >= cross_over_chance:\n",
    "            temp = chrome1[i]\n",
    "            chrome1[i] = chrome2[i]\n",
    "            chrome2[i] = temp\n",
    "        \n",
    "#     display(chrome1)\n",
    "    return chrome1, chrome2\n",
    "\n",
    "cross_over(population[0], population[1])"
   ]
  },
  {
   "cell_type": "markdown",
   "metadata": {},
   "source": [
    "# mutation"
   ]
  },
  {
   "cell_type": "code",
   "execution_count": null,
   "metadata": {},
   "outputs": [],
   "source": [
    "mutation_chance = 0.2\n",
    "\n",
    "chrome1 = population[0]\n",
    "display(chrome1)\n",
    "for day in range(len(allShifts)):\n",
    "    for shift in range(3):\n",
    "        for doctor in range(len(chrome1[day][shift])):\n",
    "            if random.uniform(0, 1) >= mutation_chance:\n",
    "                chrome1[day][shift][doctor] = np.random.randint(len(doctors_id))\n",
    "chrome1"
   ]
  },
  {
   "cell_type": "code",
   "execution_count": null,
   "metadata": {},
   "outputs": [],
   "source": []
  }
 ],
 "metadata": {
  "kernelspec": {
   "display_name": "Python 3",
   "language": "python",
   "name": "python3"
  },
  "language_info": {
   "codemirror_mode": {
    "name": "ipython",
    "version": 3
   },
   "file_extension": ".py",
   "mimetype": "text/x-python",
   "name": "python",
   "nbconvert_exporter": "python",
   "pygments_lexer": "ipython3",
   "version": "3.6.9"
  }
 },
 "nbformat": 4,
 "nbformat_minor": 4
}
